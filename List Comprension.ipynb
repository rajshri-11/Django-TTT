{
 "cells": [
  {
   "cell_type": "code",
   "execution_count": 1,
   "id": "7f821b9e-a5a9-4179-91a6-237daedaa8cc",
   "metadata": {},
   "outputs": [
    {
     "name": "stdout",
     "output_type": "stream",
     "text": [
      "[1, 16, 9, 64, 25, 1296, 49, 512, 81, 10000, 121, 1728, 169, 38416, 225, 4096, 289, 104976, 361, 8000, 441, 234256, 529, 13824, 625, 456976, 729, 21952, 841, 810000, 961, 32768, 1089, 1336336, 1225, 46656, 1369, 2085136, 1521, 64000, 1681, 3111696, 1849, 85184, 2025, 4477456, 2209, 110592, 2401, 6250000, 2601, 140608, 2809, 8503056, 3025, 175616, 3249, 11316496, 3481, 216000, 3721, 14776336, 3969, 262144, 4225, 18974736, 4489, 314432, 4761, 24010000, 5041, 373248, 5329, 29986576, 5625, 438976, 5929, 37015056, 6241, 512000, 6561, 45212176, 6889, 592704, 7225, 54700816, 7569, 681472, 7921, 65610000, 8281, 778688, 8649, 78074896, 9025, 884736, 9409, 92236816, 9801, 1000000, 10201, 108243216, 10609, 1124864, 11025, 126247696, 11449, 1259712, 11881, 146410000, 12321, 1404928, 12769, 168896016, 13225, 1560896, 13689, 193877776, 14161, 1728000]\n"
     ]
    }
   ],
   "source": [
    "# List of natural numbers from 1 to 120\n",
    "numbers = list(range(1, 121))\n",
    "\n",
    "\n",
    "new_list = [ num ** 2 if num % 2 != 0 else (num ** 3 if num % 4 == 0 else num ** 4) for num in numbers]\n",
    "\n",
    "# Print the result\n",
    "print(new_list)\n"
   ]
  },
  {
   "cell_type": "code",
   "execution_count": 7,
   "id": "e0f3b089-7898-41ef-b3d5-98465173621d",
   "metadata": {},
   "outputs": [
    {
     "name": "stdout",
     "output_type": "stream",
     "text": [
      "{1: 1, 2: 4, 3: 9, 4: 16, 5: 25}\n"
     ]
    }
   ],
   "source": [
    "#Dictionary Comprehension\n",
    "squares = {x: x**2 for x in range(1, 6)}\n",
    "print(squares)  \n"
   ]
  },
  {
   "cell_type": "code",
   "execution_count": 8,
   "id": "dd3da7ff-333e-413d-803c-bf01c2c23913",
   "metadata": {},
   "outputs": [
    {
     "name": "stdout",
     "output_type": "stream",
     "text": [
      "{0: 0, 2: 4, 4: 16, 6: 36, 8: 64}\n"
     ]
    }
   ],
   "source": [
    "#Filtering Dictionary Items\n",
    "numbers = {x: x**2 for x in range(10) if x % 2 == 0}\n",
    "print(numbers)  "
   ]
  },
  {
   "cell_type": "code",
   "execution_count": 4,
   "id": "15581734-85e0-45d8-b6ab-34cc3045e0af",
   "metadata": {},
   "outputs": [
    {
     "name": "stdout",
     "output_type": "stream",
     "text": [
      "{1: 'a', 2: 'b', 3: 'c'}\n"
     ]
    }
   ],
   "source": [
    "#Swapping Keys and Values\n",
    "original = {'a': 1, 'b': 2, 'c': 3}\n",
    "swapped = {v: k for k, v in original.items()}\n",
    "print(swapped)  "
   ]
  },
  {
   "cell_type": "code",
   "execution_count": null,
   "id": "2115d33b-f671-4e7a-9447-c5f7f8039df6",
   "metadata": {},
   "outputs": [],
   "source": []
  }
 ],
 "metadata": {
  "kernelspec": {
   "display_name": "Python 3 (ipykernel)",
   "language": "python",
   "name": "python3"
  },
  "language_info": {
   "codemirror_mode": {
    "name": "ipython",
    "version": 3
   },
   "file_extension": ".py",
   "mimetype": "text/x-python",
   "name": "python",
   "nbconvert_exporter": "python",
   "pygments_lexer": "ipython3",
   "version": "3.11.3"
  }
 },
 "nbformat": 4,
 "nbformat_minor": 5
}
